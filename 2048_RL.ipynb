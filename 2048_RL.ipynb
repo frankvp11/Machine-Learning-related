{
  "nbformat": 4,
  "nbformat_minor": 0,
  "metadata": {
    "colab": {
      "name": "2048-RL",
      "provenance": [],
      "collapsed_sections": []
    },
    "kernelspec": {
      "name": "python3",
      "display_name": "Python 3"
    },
    "language_info": {
      "name": "python"
    },
    "accelerator": "TPU"
  },
  "cells": [
    {
      "cell_type": "code",
      "execution_count": null,
      "metadata": {
        "id": "-KO3jZv9nMvU"
      },
      "outputs": [],
      "source": [
        "!pip install gym\n",
        "!pip install keras\n",
        "!pip install keras-rl2\n",
        "!pip install gym-2048"
      ]
    },
    {
      "cell_type": "code",
      "source": [
        "import numpy as np\n"
      ],
      "metadata": {
        "id": "hSti6KG4J6Mv"
      },
      "execution_count": null,
      "outputs": []
    },
    {
      "cell_type": "code",
      "source": [
        "import gym_2048\n",
        "import gym\n",
        "env = gym.make('2048-v0')\n",
        "list1 = []\n",
        "for i_episode in range(1):\n",
        "    observation = env.reset()\n",
        "    for t in range(1): \n",
        "        #env.render()\n",
        "        observation, reward, done, info = env.step(1)\n",
        "        print(\"Observation: {}\".format(len(observation)))\n",
        "        print(\"reward: {}\".format(reward))\n",
        "        print(\"done: {}\".format(done))\n",
        "        print(\"info: {}\".format(info))\n",
        "\n",
        "        if done:\n",
        "            print(\"Episode finished after {} timesteps\".format(t+1))\n",
        "            break\n",
        "env.close()\n"
      ],
      "metadata": {
        "colab": {
          "base_uri": "https://localhost:8080/"
        },
        "id": "vlFN5hKYnSMC",
        "outputId": "ba3bf0c3-3817-4f89-9393-1063b8603b21"
      },
      "execution_count": null,
      "outputs": [
        {
          "output_type": "stream",
          "name": "stdout",
          "text": [
            "Observation: 4\n",
            "reward: 4\n",
            "done: False\n",
            "info: {}\n"
          ]
        },
        {
          "output_type": "stream",
          "name": "stderr",
          "text": [
            "/usr/local/lib/python3.7/dist-packages/gym_2048/env.py:120: FutureWarning: Using a non-tuple sequence for multidimensional indexing is deprecated; use `arr[tuple(seq)]` instead of `arr[seq]`. In the future this will be interpreted as an array index, `arr[np.array(seq)]`, which will result either in an error or a different result.\n",
            "  board[tile_locs] = tiles\n"
          ]
        }
      ]
    },
    {
      "cell_type": "code",
      "source": [
        "# for i < CONGIF.DEPTH\n",
        "#   Clone current game state\n",
        "  \n",
        "#   while cloned state game not over\n",
        "#     pick random move to play\n",
        "#     Record first move\n",
        "  \n",
        "#   Record end score\n",
        "#   i++\n",
        "  \n",
        "# Make starting move with highest average end score      "
      ],
      "metadata": {
        "id": "OSpGk4ON0WZR"
      },
      "execution_count": null,
      "outputs": []
    },
    {
      "cell_type": "code",
      "source": [
        "def smoothness(observation):\n",
        "  board = observation\n",
        "  smoothness = 0\n",
        "\n",
        "  row, col = len(board), len(board[0]) if len(board) > 0 else 0\n",
        "  for r in board:\n",
        "      for i in range(col - 1):\n",
        "          smoothness += abs(r[i] - r[i + 1])\n",
        "          pass\n",
        "  for j in range(row):\n",
        "      for k in range(col - 1):\n",
        "          smoothness += abs(board[k][j] - board[k + 1][j])\n",
        "  \n",
        "  return smoothness\n",
        "\n"
      ],
      "metadata": {
        "id": "f1AwVsKVMqKp"
      },
      "execution_count": null,
      "outputs": []
    },
    {
      "cell_type": "code",
      "source": [
        "def mcts(env):\n",
        "  depth = 15\n",
        "\n",
        "  rewardsList = []\n",
        "  movesList = []\n",
        "  smoothness_list = []\n",
        "  for i in range(depth):\n",
        "    cloned_game = copy.deepcopy(env)\n",
        "    done = False\n",
        "    while not done:\n",
        "      move = random.randint(0, 4)\n",
        "      movesList.append(move)\n",
        "      observation, reward, done, info = cloned_game.step(move)\n",
        "      smoothness_list.append(smoothness(observation))\n",
        "\n",
        "      rewardsList.append(reward)\n",
        "      del move\n",
        "      del reward\n",
        "    del cloned_game\n",
        "  for i in range(len(smoothness_list)):\n",
        "    smoothness_list[i] += (rewardsList[i] * 20)\n",
        "  best = max(smoothness_list)\n",
        "  best_idx = smoothness_list.index(best)\n",
        "  best_move = movesList[best_idx]\n",
        "  return best_move"
      ],
      "metadata": {
        "id": "UiCC6HCOchYj"
      },
      "execution_count": null,
      "outputs": []
    },
    {
      "cell_type": "code",
      "source": [
        "import copy, random\n",
        "\n",
        "\n",
        "env = gym.make(\"2048-v0\")\n",
        "rewards_list = []\n",
        "for game in range(100):\n",
        "  done = False\n",
        "  env.reset()\n",
        "  rewards = 0\n",
        "  while not done:\n",
        "      move = mcts(env)\n",
        "      observation, reward, done, info = env.step(move)\n",
        "      rewards += reward\n",
        "      if done:\n",
        "        rewards_list.append(rewards)\n",
        "        print(rewards)\n",
        "        del rewards\n",
        "        del info\n",
        "        del observation\n",
        "        \n",
        "        \n",
        "    \n",
        "\n",
        "\n",
        "\n",
        "print(max(rewards_list))"
      ],
      "metadata": {
        "colab": {
          "base_uri": "https://localhost:8080/"
        },
        "id": "A3y_3sL_4-Bu",
        "outputId": "efe1b995-7591-4e71-dd1b-68876a12452b"
      },
      "execution_count": null,
      "outputs": [
        {
          "output_type": "stream",
          "name": "stderr",
          "text": [
            "/usr/local/lib/python3.7/dist-packages/gym_2048/env.py:120: FutureWarning: Using a non-tuple sequence for multidimensional indexing is deprecated; use `arr[tuple(seq)]` instead of `arr[seq]`. In the future this will be interpreted as an array index, `arr[np.array(seq)]`, which will result either in an error or a different result.\n",
            "  board[tile_locs] = tiles\n"
          ]
        },
        {
          "output_type": "stream",
          "name": "stdout",
          "text": [
            "784\n",
            "1292\n",
            "1576\n",
            "604\n",
            "692\n",
            "748\n",
            "848\n",
            "720\n",
            "1036\n",
            "580\n",
            "288\n",
            "328\n",
            "1004\n",
            "996\n",
            "1160\n",
            "1032\n",
            "1216\n",
            "612\n",
            "876\n",
            "544\n",
            "440\n",
            "572\n",
            "272\n",
            "268\n",
            "652\n",
            "1260\n",
            "196\n",
            "688\n",
            "1224\n",
            "908\n",
            "1064\n",
            "1068\n",
            "472\n",
            "1452\n",
            "600\n",
            "724\n",
            "684\n",
            "1556\n",
            "788\n",
            "508\n",
            "1092\n",
            "616\n",
            "1400\n",
            "972\n",
            "616\n",
            "720\n",
            "656\n",
            "700\n",
            "792\n",
            "1032\n",
            "756\n",
            "1008\n",
            "304\n",
            "596\n",
            "1276\n",
            "1216\n",
            "1336\n",
            "552\n",
            "412\n",
            "1348\n",
            "2344\n",
            "880\n",
            "584\n",
            "560\n",
            "680\n",
            "712\n",
            "868\n",
            "784\n",
            "1996\n",
            "1624\n",
            "480\n",
            "1068\n",
            "492\n",
            "1488\n",
            "1612\n",
            "376\n",
            "1420\n",
            "440\n",
            "1228\n",
            "1064\n",
            "548\n",
            "608\n",
            "888\n",
            "1044\n",
            "1340\n",
            "344\n",
            "444\n",
            "656\n",
            "2160\n",
            "1256\n",
            "744\n",
            "728\n",
            "776\n",
            "644\n",
            "580\n",
            "564\n",
            "472\n",
            "732\n",
            "1052\n",
            "1080\n",
            "2344\n"
          ]
        }
      ]
    },
    {
      "cell_type": "code",
      "source": [
        "observation"
      ],
      "metadata": {
        "id": "mzti13OD-Fgy",
        "colab": {
          "base_uri": "https://localhost:8080/",
          "height": 167
        },
        "outputId": "6ef48a58-233b-45f1-f130-5e02fec9ae99"
      },
      "execution_count": null,
      "outputs": [
        {
          "output_type": "error",
          "ename": "NameError",
          "evalue": "ignored",
          "traceback": [
            "\u001b[0;31m---------------------------------------------------------------------------\u001b[0m",
            "\u001b[0;31mNameError\u001b[0m                                 Traceback (most recent call last)",
            "\u001b[0;32m<ipython-input-2-16517b451208>\u001b[0m in \u001b[0;36m<module>\u001b[0;34m()\u001b[0m\n\u001b[0;32m----> 1\u001b[0;31m \u001b[0mobservation\u001b[0m\u001b[0;34m\u001b[0m\u001b[0;34m\u001b[0m\u001b[0m\n\u001b[0m",
            "\u001b[0;31mNameError\u001b[0m: name 'observation' is not defined"
          ]
        }
      ]
    }
  ]
}