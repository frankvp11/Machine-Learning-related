{
  "nbformat": 4,
  "nbformat_minor": 0,
  "metadata": {
    "colab": {
      "name": "bzpredictor",
      "provenance": [],
      "collapsed_sections": []
    },
    "kernelspec": {
      "name": "python3",
      "display_name": "Python 3"
    },
    "language_info": {
      "name": "python"
    },
    "accelerator": "GPU"
  },
  "cells": [
    {
      "cell_type": "markdown",
      "source": [
        "This is cell of code is used to get my data from a website which updates daily, and then convert it to a dataframe. It is a 2d array.\n",
        "\n"
      ],
      "metadata": {
        "id": "p4M3CuN5iF4S"
      }
    },
    {
      "cell_type": "code",
      "execution_count": 1,
      "metadata": {
        "id": "CH1VyYoFed-H",
        "colab": {
          "base_uri": "https://localhost:8080/",
          "height": 454
        },
        "outputId": "90e9d514-51bd-49aa-903d-280dd91a6d91"
      },
      "outputs": [
        {
          "output_type": "display_data",
          "data": {
            "text/html": [
              "        <script type=\"text/javascript\">\n",
              "        window.PlotlyConfig = {MathJaxConfig: 'local'};\n",
              "        if (window.MathJax) {MathJax.Hub.Config({SVG: {font: \"STIX-Web\"}});}\n",
              "        if (typeof require !== 'undefined') {\n",
              "        require.undef(\"plotly\");\n",
              "        requirejs.config({\n",
              "            paths: {\n",
              "                'plotly': ['https://cdn.plot.ly/plotly-2.8.3.min']\n",
              "            }\n",
              "        });\n",
              "        require(['plotly'], function(Plotly) {\n",
              "            window._Plotly = Plotly;\n",
              "        });\n",
              "        }\n",
              "        </script>\n",
              "        "
            ]
          },
          "metadata": {}
        },
        {
          "output_type": "execute_result",
          "data": {
            "text/plain": [
              "                avg\n",
              "time               \n",
              "2020-09-08  1882120\n",
              "2020-09-09  1227820\n",
              "2020-09-10   961632\n",
              "2020-09-11   954272\n",
              "2020-09-12   946214\n",
              "...             ...\n",
              "2022-03-12  3073540\n",
              "2022-03-13  3031650\n",
              "2022-03-13  3032510\n",
              "2022-03-13  3049720\n",
              "2022-03-13  3018620\n",
              "\n",
              "[1031 rows x 1 columns]"
            ],
            "text/html": [
              "\n",
              "  <div id=\"df-5f9f7d4f-1989-4a0d-b168-2ade7fe158a2\">\n",
              "    <div class=\"colab-df-container\">\n",
              "      <div>\n",
              "<style scoped>\n",
              "    .dataframe tbody tr th:only-of-type {\n",
              "        vertical-align: middle;\n",
              "    }\n",
              "\n",
              "    .dataframe tbody tr th {\n",
              "        vertical-align: top;\n",
              "    }\n",
              "\n",
              "    .dataframe thead th {\n",
              "        text-align: right;\n",
              "    }\n",
              "</style>\n",
              "<table border=\"1\" class=\"dataframe\">\n",
              "  <thead>\n",
              "    <tr style=\"text-align: right;\">\n",
              "      <th></th>\n",
              "      <th>avg</th>\n",
              "    </tr>\n",
              "    <tr>\n",
              "      <th>time</th>\n",
              "      <th></th>\n",
              "    </tr>\n",
              "  </thead>\n",
              "  <tbody>\n",
              "    <tr>\n",
              "      <th>2020-09-08</th>\n",
              "      <td>1882120</td>\n",
              "    </tr>\n",
              "    <tr>\n",
              "      <th>2020-09-09</th>\n",
              "      <td>1227820</td>\n",
              "    </tr>\n",
              "    <tr>\n",
              "      <th>2020-09-10</th>\n",
              "      <td>961632</td>\n",
              "    </tr>\n",
              "    <tr>\n",
              "      <th>2020-09-11</th>\n",
              "      <td>954272</td>\n",
              "    </tr>\n",
              "    <tr>\n",
              "      <th>2020-09-12</th>\n",
              "      <td>946214</td>\n",
              "    </tr>\n",
              "    <tr>\n",
              "      <th>...</th>\n",
              "      <td>...</td>\n",
              "    </tr>\n",
              "    <tr>\n",
              "      <th>2022-03-12</th>\n",
              "      <td>3073540</td>\n",
              "    </tr>\n",
              "    <tr>\n",
              "      <th>2022-03-13</th>\n",
              "      <td>3031650</td>\n",
              "    </tr>\n",
              "    <tr>\n",
              "      <th>2022-03-13</th>\n",
              "      <td>3032510</td>\n",
              "    </tr>\n",
              "    <tr>\n",
              "      <th>2022-03-13</th>\n",
              "      <td>3049720</td>\n",
              "    </tr>\n",
              "    <tr>\n",
              "      <th>2022-03-13</th>\n",
              "      <td>3018620</td>\n",
              "    </tr>\n",
              "  </tbody>\n",
              "</table>\n",
              "<p>1031 rows × 1 columns</p>\n",
              "</div>\n",
              "      <button class=\"colab-df-convert\" onclick=\"convertToInteractive('df-5f9f7d4f-1989-4a0d-b168-2ade7fe158a2')\"\n",
              "              title=\"Convert this dataframe to an interactive table.\"\n",
              "              style=\"display:none;\">\n",
              "        \n",
              "  <svg xmlns=\"http://www.w3.org/2000/svg\" height=\"24px\"viewBox=\"0 0 24 24\"\n",
              "       width=\"24px\">\n",
              "    <path d=\"M0 0h24v24H0V0z\" fill=\"none\"/>\n",
              "    <path d=\"M18.56 5.44l.94 2.06.94-2.06 2.06-.94-2.06-.94-.94-2.06-.94 2.06-2.06.94zm-11 1L8.5 8.5l.94-2.06 2.06-.94-2.06-.94L8.5 2.5l-.94 2.06-2.06.94zm10 10l.94 2.06.94-2.06 2.06-.94-2.06-.94-.94-2.06-.94 2.06-2.06.94z\"/><path d=\"M17.41 7.96l-1.37-1.37c-.4-.4-.92-.59-1.43-.59-.52 0-1.04.2-1.43.59L10.3 9.45l-7.72 7.72c-.78.78-.78 2.05 0 2.83L4 21.41c.39.39.9.59 1.41.59.51 0 1.02-.2 1.41-.59l7.78-7.78 2.81-2.81c.8-.78.8-2.07 0-2.86zM5.41 20L4 18.59l7.72-7.72 1.47 1.35L5.41 20z\"/>\n",
              "  </svg>\n",
              "      </button>\n",
              "      \n",
              "  <style>\n",
              "    .colab-df-container {\n",
              "      display:flex;\n",
              "      flex-wrap:wrap;\n",
              "      gap: 12px;\n",
              "    }\n",
              "\n",
              "    .colab-df-convert {\n",
              "      background-color: #E8F0FE;\n",
              "      border: none;\n",
              "      border-radius: 50%;\n",
              "      cursor: pointer;\n",
              "      display: none;\n",
              "      fill: #1967D2;\n",
              "      height: 32px;\n",
              "      padding: 0 0 0 0;\n",
              "      width: 32px;\n",
              "    }\n",
              "\n",
              "    .colab-df-convert:hover {\n",
              "      background-color: #E2EBFA;\n",
              "      box-shadow: 0px 1px 2px rgba(60, 64, 67, 0.3), 0px 1px 3px 1px rgba(60, 64, 67, 0.15);\n",
              "      fill: #174EA6;\n",
              "    }\n",
              "\n",
              "    [theme=dark] .colab-df-convert {\n",
              "      background-color: #3B4455;\n",
              "      fill: #D2E3FC;\n",
              "    }\n",
              "\n",
              "    [theme=dark] .colab-df-convert:hover {\n",
              "      background-color: #434B5C;\n",
              "      box-shadow: 0px 1px 3px 1px rgba(0, 0, 0, 0.15);\n",
              "      filter: drop-shadow(0px 1px 2px rgba(0, 0, 0, 0.3));\n",
              "      fill: #FFFFFF;\n",
              "    }\n",
              "  </style>\n",
              "\n",
              "      <script>\n",
              "        const buttonEl =\n",
              "          document.querySelector('#df-5f9f7d4f-1989-4a0d-b168-2ade7fe158a2 button.colab-df-convert');\n",
              "        buttonEl.style.display =\n",
              "          google.colab.kernel.accessAllowed ? 'block' : 'none';\n",
              "\n",
              "        async function convertToInteractive(key) {\n",
              "          const element = document.querySelector('#df-5f9f7d4f-1989-4a0d-b168-2ade7fe158a2');\n",
              "          const dataTable =\n",
              "            await google.colab.kernel.invokeFunction('convertToInteractive',\n",
              "                                                     [key], {});\n",
              "          if (!dataTable) return;\n",
              "\n",
              "          const docLinkHtml = 'Like what you see? Visit the ' +\n",
              "            '<a target=\"_blank\" href=https://colab.research.google.com/notebooks/data_table.ipynb>data table notebook</a>'\n",
              "            + ' to learn more about interactive tables.';\n",
              "          element.innerHTML = '';\n",
              "          dataTable['output_type'] = 'display_data';\n",
              "          await google.colab.output.renderOutput(dataTable, element);\n",
              "          const docLink = document.createElement('div');\n",
              "          docLink.innerHTML = docLinkHtml;\n",
              "          element.appendChild(docLink);\n",
              "        }\n",
              "      </script>\n",
              "    </div>\n",
              "  </div>\n",
              "  "
            ]
          },
          "metadata": {},
          "execution_count": 1
        }
      ],
      "source": [
        "import requests\n",
        "import pandas as pd\n",
        "import json\n",
        "import matplotlib.pyplot as plt\n",
        "import numpy as np\n",
        "from sklearn.preprocessing import MinMaxScaler\n",
        "from keras.models import Sequential \n",
        "from keras.layers import Dense, LSTM\n",
        "import math\n",
        "import numpy as np\n",
        "import pandas as pd\n",
        "from pandas.tseries.offsets import DateOffset\n",
        "from sklearn.preprocessing import MinMaxScaler\n",
        "\n",
        "import tensorflow as tf\n",
        "from tensorflow import keras\n",
        "from datetime import datetime\n",
        "from tensorflow.keras.preprocessing.sequence import TimeseriesGenerator\n",
        "from tensorflow.keras.models import Sequential\n",
        "from tensorflow.keras.layers import Dense\n",
        "from tensorflow.keras.layers import LSTM\n",
        "from tensorflow.keras.layers import Dropout\n",
        "import warnings\n",
        "warnings.filterwarnings(\"ignore\")\n",
        "\n",
        "\n",
        "import plotly.offline as pyoff\n",
        "import plotly.graph_objs as go\n",
        "pyoff.init_notebook_mode(connected=True)\n",
        "plt.style.use('fivethirtyeight')\n",
        "\n",
        "#Gets the data needed, then converts it into the required form\n",
        "response = requests.get(\"https://sky.coflnet.com/command/pricerdicer/eyJuYW1lIjoiQk9PU1RFUl9DT09LSUUiLCJzdGFydCI6MH0=\")\n",
        "contents = response.text\n",
        "contents = json.loads(contents)\n",
        "data = contents[\"prices\"]\n",
        "df = pd.DataFrame(data)\n",
        "df = pd.DataFrame.from_dict(data)\n",
        "df = pd.DataFrame.from_records(data)\n",
        "\n",
        "df.time = pd.to_datetime(df.time)\n",
        "df.time = df[\"time\"].dt.strftime(\"%Y-%m-%d\")\n",
        "\n",
        "\n",
        "df.index = df.time\n",
        "df.drop(columns=['volume', 'min', 'max', 'time'], inplace=True)\n",
        "df\n",
        "\n"
      ]
    },
    {
      "cell_type": "markdown",
      "source": [
        "This code cell is used to filter through the data, and find out the length of the dataset, filtering only through the parts i want."
      ],
      "metadata": {
        "id": "gb7ysLU2iU3D"
      }
    },
    {
      "cell_type": "code",
      "source": [
        "#some simple variables which will be used more later\n",
        "dataset = df.values\n",
        "training_data_len = len(dataset)\n"
      ],
      "metadata": {
        "id": "Xj7nWnOQe8n7"
      },
      "execution_count": 2,
      "outputs": []
    },
    {
      "cell_type": "markdown",
      "source": [
        "\\In this next cell, i scale the data down into values between 0 and 1, so that it's easier for hte model to predict. \n",
        "\n",
        "1.   List item\n",
        "2.   List item\n",
        "\n"
      ],
      "metadata": {
        "id": "l9YUqp1nic5w"
      }
    },
    {
      "cell_type": "code",
      "source": [
        "#Scaling the data from 0 to 1 for computer's ease of use\n",
        "train = df\n",
        "\n",
        "scaler = MinMaxScaler()\n",
        "scaler.fit(train)\n",
        "train = scaler.transform(train)\n"
      ],
      "metadata": {
        "id": "L5-y14ZXe0Xn"
      },
      "execution_count": 3,
      "outputs": []
    },
    {
      "cell_type": "code",
      "source": [
        "#more variables, and the timeseriesgenerator which i will use later\n",
        "n_input = 30\n",
        "n_features = 1\n",
        "generator = TimeseriesGenerator(train, train, length=n_input, batch_size=6)"
      ],
      "metadata": {
        "id": "VPlPg6WQzCcZ"
      },
      "execution_count": 5,
      "outputs": []
    },
    {
      "cell_type": "code",
      "source": [
        "#the model i will use\n",
        "model = Sequential()\n",
        "model.add(LSTM(200, activation='relu', input_shape=(n_input, n_features)))\n",
        "model.add(Dropout(0.15))\n",
        "model.add(Dense(1))\n",
        "\n",
        "optimizer = keras.optimizers.Adam(learning_rate=0.001)\n",
        "model.compile(optimizer=optimizer, loss='mse')"
      ],
      "metadata": {
        "id": "H5jb-1oxzDMZ"
      },
      "execution_count": 7,
      "outputs": []
    },
    {
      "cell_type": "code",
      "source": [
        "history = model.fit_generator(generator, epochs=100, verbose=1)"
      ],
      "metadata": {
        "colab": {
          "base_uri": "https://localhost:8080/"
        },
        "id": "H9PbqXCnzGfh",
        "outputId": "b757b503-9bc9-4b71-fe91-e743b1dc607e"
      },
      "execution_count": null,
      "outputs": [
        {
          "output_type": "stream",
          "name": "stdout",
          "text": [
            "Epoch 1/100\n",
            "167/167 [==============================] - 9s 45ms/step - loss: 0.0233\n",
            "Epoch 2/100\n",
            "167/167 [==============================] - 10s 57ms/step - loss: 0.0030\n",
            "Epoch 3/100\n",
            "167/167 [==============================] - 11s 63ms/step - loss: 0.0045\n",
            "Epoch 4/100\n",
            "167/167 [==============================] - 12s 70ms/step - loss: 0.0027\n",
            "Epoch 5/100\n",
            "167/167 [==============================] - 7s 43ms/step - loss: 0.0026\n",
            "Epoch 6/100\n",
            "167/167 [==============================] - 10s 59ms/step - loss: 0.0029\n",
            "Epoch 7/100\n",
            "167/167 [==============================] - 15s 91ms/step - loss: 0.0027\n",
            "Epoch 8/100\n",
            "167/167 [==============================] - 9s 55ms/step - loss: 0.0024\n",
            "Epoch 9/100\n",
            "167/167 [==============================] - 7s 42ms/step - loss: 0.0022\n",
            "Epoch 10/100\n",
            "167/167 [==============================] - 7s 43ms/step - loss: 0.0020\n",
            "Epoch 11/100\n",
            "167/167 [==============================] - 7s 43ms/step - loss: 0.0021\n",
            "Epoch 12/100\n",
            "167/167 [==============================] - 7s 44ms/step - loss: 0.0019\n",
            "Epoch 13/100\n",
            "167/167 [==============================] - 7s 41ms/step - loss: 0.0017\n",
            "Epoch 14/100\n",
            "167/167 [==============================] - 7s 39ms/step - loss: 0.0018\n",
            "Epoch 15/100\n",
            "167/167 [==============================] - 7s 42ms/step - loss: 0.0016\n",
            "Epoch 16/100\n",
            "167/167 [==============================] - 7s 40ms/step - loss: 0.0016\n",
            "Epoch 17/100\n",
            "167/167 [==============================] - 7s 43ms/step - loss: 0.0021\n",
            "Epoch 18/100\n",
            "167/167 [==============================] - 7s 44ms/step - loss: 0.0020\n",
            "Epoch 19/100\n",
            "167/167 [==============================] - 7s 40ms/step - loss: 0.0015\n",
            "Epoch 20/100\n",
            "167/167 [==============================] - 7s 40ms/step - loss: 0.0015\n",
            "Epoch 21/100\n",
            "167/167 [==============================] - 7s 43ms/step - loss: 0.0016\n",
            "Epoch 22/100\n",
            "167/167 [==============================] - 7s 40ms/step - loss: 0.0014\n",
            "Epoch 23/100\n",
            "167/167 [==============================] - 7s 41ms/step - loss: 0.0014\n",
            "Epoch 24/100\n",
            "167/167 [==============================] - 7s 43ms/step - loss: 0.0014\n",
            "Epoch 25/100\n",
            "167/167 [==============================] - 7s 40ms/step - loss: 0.0014\n",
            "Epoch 26/100\n",
            "167/167 [==============================] - 7s 43ms/step - loss: 0.0013\n",
            "Epoch 27/100\n",
            "167/167 [==============================] - 8s 50ms/step - loss: 0.0012\n",
            "Epoch 28/100\n",
            "167/167 [==============================] - 7s 39ms/step - loss: 0.0012\n",
            "Epoch 29/100\n",
            "167/167 [==============================] - 7s 44ms/step - loss: 0.0013\n",
            "Epoch 30/100\n",
            "167/167 [==============================] - 7s 41ms/step - loss: 0.0013\n",
            "Epoch 31/100\n",
            "167/167 [==============================] - 7s 42ms/step - loss: 0.0011\n",
            "Epoch 32/100\n",
            "167/167 [==============================] - 7s 40ms/step - loss: 0.0011\n",
            "Epoch 33/100\n",
            "167/167 [==============================] - 6s 39ms/step - loss: 0.0014\n",
            "Epoch 34/100\n",
            "167/167 [==============================] - 7s 41ms/step - loss: 0.0013\n",
            "Epoch 35/100\n",
            "167/167 [==============================] - 7s 40ms/step - loss: 0.0011\n",
            "Epoch 36/100\n",
            "167/167 [==============================] - 7s 43ms/step - loss: 0.0011\n",
            "Epoch 37/100\n",
            "167/167 [==============================] - 7s 41ms/step - loss: 0.0011\n",
            "Epoch 38/100\n",
            "167/167 [==============================] - 7s 42ms/step - loss: 0.0012\n",
            "Epoch 39/100\n",
            "167/167 [==============================] - 7s 44ms/step - loss: 0.0012\n",
            "Epoch 40/100\n",
            "167/167 [==============================] - 7s 42ms/step - loss: 0.0012\n",
            "Epoch 41/100\n",
            "167/167 [==============================] - 7s 40ms/step - loss: 0.0011\n",
            "Epoch 42/100\n",
            "167/167 [==============================] - 7s 44ms/step - loss: 9.8564e-04\n",
            "Epoch 43/100\n",
            "167/167 [==============================] - 7s 43ms/step - loss: 0.0011\n",
            "Epoch 44/100\n",
            "167/167 [==============================] - 7s 41ms/step - loss: 0.0011\n",
            "Epoch 45/100\n",
            "167/167 [==============================] - 7s 40ms/step - loss: 0.0011\n",
            "Epoch 46/100\n",
            "167/167 [==============================] - 7s 40ms/step - loss: 0.0010\n",
            "Epoch 47/100\n",
            "167/167 [==============================] - 7s 40ms/step - loss: 0.0010\n",
            "Epoch 48/100\n",
            "167/167 [==============================] - 7s 40ms/step - loss: 0.0011\n",
            "Epoch 49/100\n",
            "167/167 [==============================] - 7s 40ms/step - loss: 0.0010\n",
            "Epoch 50/100\n",
            "167/167 [==============================] - 7s 40ms/step - loss: 0.0011\n",
            "Epoch 51/100\n",
            "167/167 [==============================] - 7s 40ms/step - loss: 0.0011\n",
            "Epoch 52/100\n",
            "167/167 [==============================] - 7s 41ms/step - loss: 9.9987e-04\n",
            "Epoch 53/100\n",
            "167/167 [==============================] - 7s 39ms/step - loss: 9.7091e-04\n",
            "Epoch 54/100\n",
            "167/167 [==============================] - 7s 39ms/step - loss: 0.0010\n",
            "Epoch 55/100\n",
            "167/167 [==============================] - 7s 41ms/step - loss: 9.7893e-04\n",
            "Epoch 56/100\n",
            "167/167 [==============================] - 7s 41ms/step - loss: 0.0010\n",
            "Epoch 57/100\n",
            "167/167 [==============================] - 7s 43ms/step - loss: 0.0010\n",
            "Epoch 58/100\n",
            "167/167 [==============================] - 7s 42ms/step - loss: 9.2004e-04\n",
            "Epoch 59/100\n",
            "167/167 [==============================] - 7s 43ms/step - loss: 9.3705e-04\n",
            "Epoch 60/100\n",
            "167/167 [==============================] - 7s 42ms/step - loss: 8.5978e-04\n",
            "Epoch 61/100\n",
            "167/167 [==============================] - 7s 41ms/step - loss: 9.3058e-04\n",
            "Epoch 62/100\n",
            "167/167 [==============================] - 7s 41ms/step - loss: 8.9481e-04\n",
            "Epoch 63/100\n",
            "167/167 [==============================] - 7s 42ms/step - loss: 8.4386e-04\n",
            "Epoch 64/100\n",
            "167/167 [==============================] - 7s 41ms/step - loss: 9.4829e-04\n",
            "Epoch 65/100\n",
            "167/167 [==============================] - 7s 42ms/step - loss: 8.9565e-04\n",
            "Epoch 66/100\n",
            "167/167 [==============================] - 7s 42ms/step - loss: 9.0499e-04\n",
            "Epoch 67/100\n",
            " 55/167 [========>.....................] - ETA: 4s - loss: 8.9687e-04"
          ]
        }
      ]
    },
    {
      "cell_type": "code",
      "source": [
        ""
      ],
      "metadata": {
        "id": "5BJtyIlQuius"
      },
      "execution_count": null,
      "outputs": []
    },
    {
      "cell_type": "code",
      "source": [
        "#plotting loss\n",
        "hist = pd.DataFrame(history.history)\n",
        "hist['epoch'] = history.epoch\n",
        "\n",
        "plot_data = [\n",
        "    go.Scatter(\n",
        "        x=hist['epoch'],\n",
        "        y=hist['loss'],\n",
        "        name='loss'\n",
        "    )\n",
        "    \n",
        "]\n",
        "\n",
        "plot_layout = go.Layout(\n",
        "        title='Training loss'\n",
        "    )\n",
        "fig = go.Figure(data=plot_data, layout=plot_layout)\n",
        "pyoff.iplot(fig)\n"
      ],
      "metadata": {
        "id": "QigxOGztzJvH"
      },
      "execution_count": null,
      "outputs": []
    },
    {
      "cell_type": "code",
      "source": [
        "#predicting\n",
        "pred_list = []\n",
        "\n",
        "batch = train[-n_input:].reshape((1, n_input, n_features))\n",
        "\n",
        "for i in range(n_input):   \n",
        "    pred_list.append(model.predict(batch)[0]) \n",
        "    batch = np.append(batch[:,1:,:],[[pred_list[i]]],axis=1)"
      ],
      "metadata": {
        "id": "K5tuTcJcz6Nj"
      },
      "execution_count": null,
      "outputs": []
    },
    {
      "cell_type": "code",
      "source": [
        "#getting the future dates for the graph which is used to plot predictions\n",
        "from pandas.tseries.offsets import DateOffset\n",
        "df.index = pd.to_datetime(df.index)\n",
        "add_dates = [df.index[-1] + DateOffset(days = x) for x in range (0,n_input + 5)]\n",
        "\n",
        "\n",
        "\n",
        "\n",
        "future_dates = pd.DataFrame(index=add_dates[1:],columns=df.columns)"
      ],
      "metadata": {
        "id": "zvgXloVPz-SU"
      },
      "execution_count": null,
      "outputs": []
    },
    {
      "cell_type": "code",
      "source": [
        "#plotting\n",
        "df_predict = pd.DataFrame(scaler.inverse_transform(pred_list),\n",
        "                          index=future_dates[-n_input:].index, columns=['Prediction'])\n",
        "\n",
        "df_proj = pd.concat([df,df_predict])\n",
        "\n",
        "plt.plot(df_predict)\n",
        "plt.xticks(rotation=90)\n",
        "plt.show"
      ],
      "metadata": {
        "id": "btmaGtVo0Fpn"
      },
      "execution_count": null,
      "outputs": []
    },
    {
      "cell_type": "code",
      "source": [
        "plt.plot(df_proj)\n",
        "plt.show()"
      ],
      "metadata": {
        "colab": {
          "base_uri": "https://localhost:8080/",
          "height": 273
        },
        "id": "JN-_rdJdACIg",
        "outputId": "a773e949-580d-4a8d-e75f-3440566d7d94"
      },
      "execution_count": null,
      "outputs": [
        {
          "output_type": "display_data",
          "data": {
            "image/png": "[encoded data removed]",
            "text/plain": [
              "<Figure size 432x288 with 1 Axes>"
            ]
          },
          "metadata": {
            "needs_background": "light"
          }
        }
      ]
    },
    {
      "cell_type": "code",
      "source": [
        "df_predict\n",
        "df_predict.to_csv()"
      ],
      "metadata": {
        "colab": {
          "base_uri": "https://localhost:8080/",
          "height": 157
        },
        "id": "ame1Mx0scPxc",
        "outputId": "04965038-b851-4926-f0c0-41d262eb7427"
      },
      "execution_count": null,
      "outputs": [
        {
          "output_type": "execute_result",
          "data": {
            "application/vnd.google.colaboratory.intrinsic+json": {
              "type": "string"
            },
            "text/plain": [
              "',Prediction\\n2022-01-29,3470779.5094884634\\n2022-01-30,3483626.301261425\\n2022-01-31,3496931.0540730953\\n2022-02-01,3510139.857133746\\n2022-02-02,3523233.8556888103\\n2022-02-03,3536198.803923726\\n2022-02-04,3549027.5789312124\\n2022-02-05,3561713.4767985344\\n2022-02-06,3574251.8885856867\\n2022-02-07,3586638.205352664\\n2022-02-08,3598870.3321267366\\n2022-02-09,3610945.335946083\\n2022-02-10,3622861.1218379736\\n2022-02-11,3634616.8518133163\\n2022-02-12,3646212.1068775654\\n2022-02-13,3657646.468036175\\n2022-02-14,3668919.0973000526\\n2022-02-15,3680030.413663745\\n2022-02-16,3690979.9981327057\\n2022-02-17,3701770.3646742105\\n2022-02-18,3712400.6752991676\\n2022-02-19,3722871.767996669\\n2022-02-20,3733185.318744898\\n2022-02-21,3743332.947652936\\n2022-02-22,3753303.341868043\\n2022-02-23,3763090.2164720297\\n2022-02-24,3772691.4764921665\\n2022-02-25,3782107.5409229994\\n2022-02-26,3791340.504737258\\n2022-02-27,3800392.043913126\\n'"
            ]
          },
          "metadata": {},
          "execution_count": 35
        }
      ]
    }
  ]
}